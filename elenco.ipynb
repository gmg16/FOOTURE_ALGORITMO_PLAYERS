{
 "cells": [
  {
   "cell_type": "code",
   "execution_count": 1,
   "id": "4de5f96f",
   "metadata": {},
   "outputs": [],
   "source": [
    "from db.mongo import QueryMongo\n",
    "from data.pre_processing_data import PreRating\n",
    "from ratings.rating import AlgoritmoRating\n",
    "from ratings.radar_stats import RadarStats\n",
    "from plot.funcoes import PlotFuncoes\n",
    "from plot.plot_radar import Radar\n",
    "from plot.quadro_dados import PlotStatsQuadro\n",
    "from aux.translate_positions import translate"
   ]
  },
  {
   "cell_type": "code",
   "execution_count": 19,
   "id": "a8c76043",
   "metadata": {},
   "outputs": [],
   "source": [
    "team_id = 304"
   ]
  },
  {
   "cell_type": "code",
   "execution_count": 51,
   "id": "d0d3783b",
   "metadata": {},
   "outputs": [],
   "source": [
    "from services.player_algoritmo import Algoritmo\n",
    "season_id = -3305\n",
    "list_positions = [\n",
    "    'Lateral direito', 'Zagueiro', 'Lateral Esquerdo', \n",
    "    'Volante', 'Meio Campista', 'Extremo', 'Atacante'\n",
    "]\n",
    "list_df_algoritmos = []\n",
    "for position in list_positions: \n",
    "    algoritmo = Algoritmo(season_id, position)\n",
    "    df_algoritmo = algoritmo.df_info.join(algoritmo.df_output_algoritmo)\n",
    "    df_algoritmo = df_algoritmo[df_algoritmo['id_time_na_epoca'] != '-'].reset_index(drop=True)\n",
    "    df_algoritmo = df_algoritmo[df_algoritmo['id_time_na_epoca'] != '-'].reset_index(drop=True)\n",
    "    df_team_analysis = df_algoritmo.groupby('id_time_na_epoca').mean().reset_index()\n",
    "    df_team_analysis = df_team_analysis.drop(['id', 'season_id'], axis=1)\n",
    "    df_team_analysis_rank = df_team_analysis.rank(ascending=False)\n",
    "\n",
    "    df_team_analysis = df_team_analysis[df_team_analysis['id_time_na_epoca'] == team_id].reset_index(drop=True)\n",
    "    df_team_analysis_rank = df_team_analysis_rank[df_team_analysis_rank['id_time_na_epoca']== team_id].reset_index(drop=True)\n",
    "    df_team_analysis = df_team_analysis.drop(['id_time_na_epoca'], axis=1)\n",
    "    df_best_functions = df_team_analysis.T.sort_values(0,ascending=False).reset_index()\n",
    "    df_best_functions['position'] = position\n",
    "    df_best_functions = df_best_functions.rename(columns={'index': 'Função', 0: 'Nota'})\n",
    "    list_df_algoritmos.append(df_best_functions)"
   ]
  },
  {
   "cell_type": "code",
   "execution_count": 52,
   "id": "329e465e",
   "metadata": {},
   "outputs": [],
   "source": [
    "df_best_func = pd.concat(list_df_algoritmos, ignore_index=True)\n",
    "df_best_func.to_csv('best_functions.csv')"
   ]
  }
 ],
 "metadata": {
  "kernelspec": {
   "display_name": "Python 3",
   "language": "python",
   "name": "python3"
  },
  "language_info": {
   "codemirror_mode": {
    "name": "ipython",
    "version": 3
   },
   "file_extension": ".py",
   "mimetype": "text/x-python",
   "name": "python",
   "nbconvert_exporter": "python",
   "pygments_lexer": "ipython3",
   "version": "3.8.10"
  }
 },
 "nbformat": 4,
 "nbformat_minor": 5
}
